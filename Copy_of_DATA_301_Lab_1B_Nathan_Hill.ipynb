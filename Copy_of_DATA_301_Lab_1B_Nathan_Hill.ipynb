{
  "nbformat": 4,
  "nbformat_minor": 0,
  "metadata": {
    "kernelspec": {
      "display_name": "Python 3",
      "language": "python",
      "name": "python3"
    },
    "language_info": {
      "codemirror_mode": {
        "name": "ipython",
        "version": 3
      },
      "file_extension": ".py",
      "mimetype": "text/x-python",
      "name": "python",
      "nbconvert_exporter": "python",
      "pygments_lexer": "ipython3",
      "version": "3.6.4"
    },
    "colab": {
      "name": "Copy of DATA 301 Lab 1B - Nathan Hill",
      "provenance": [],
      "collapsed_sections": [],
      "include_colab_link": true
    }
  },
  "cells": [
    {
      "cell_type": "markdown",
      "metadata": {
        "id": "view-in-github",
        "colab_type": "text"
      },
      "source": [
        "<a href=\"https://colab.research.google.com/github/nathanhill923/DATA301-Lab-1A/blob/main/Copy_of_DATA_301_Lab_1B_Nathan_Hill.ipynb\" target=\"_parent\"><img src=\"https://colab.research.google.com/assets/colab-badge.svg\" alt=\"Open In Colab\"/></a>"
      ]
    },
    {
      "cell_type": "markdown",
      "metadata": {
        "id": "uQm3Aekkc8kE"
      },
      "source": [
        "# Explore the In Class Survey\n",
        "\n",
        "During the first class, you filled out the [first-day survey](https://docs.google.com/forms/d/e/1FAIpQLSczqKwzkye0RP8byLMxzj1Br3kC_YUdVGLWmMXX6VND99ivWg/viewform). In this lab, you will explore [the responses](https://docs.google.com/spreadsheets/d/1K9rfAscLESbwvovOc1aD3K6PFgdqkVRbaFHeD-UMTSc/edit?usp=sharing).\n",
        "\n",
        "Download the spreadsheet from the link above, then read the data into a `pandas` `DataFrame` whose columns are the survey questions. Each row represents one student's response to the questions."
      ]
    },
    {
      "cell_type": "markdown",
      "metadata": {
        "id": "k54rkU7Ec8kO"
      },
      "source": [
        "## Question 1\n",
        "\n",
        "Make a graphic that visualizes the favorite colors of students in DATA 301. Explain what you see.\n",
        "\n",
        "(_Hint:_ You might have to clean the data a bit first.)"
      ]
    },
    {
      "cell_type": "code",
      "source": [
        "import pandas as pd"
      ],
      "metadata": {
        "id": "K17o9PLZqLiO"
      },
      "execution_count": 2,
      "outputs": []
    },
    {
      "cell_type": "code",
      "metadata": {
        "id": "Ym53WixOc8kL",
        "colab": {
          "base_uri": "https://localhost:8080/",
          "height": 406
        },
        "outputId": "17bf6a77-5c77-435f-c9d8-6bd2dd39c0eb"
      },
      "source": [
        "url = \"https://docs.google.com/spreadsheets/d/1K9rfAscLESbwvovOc1aD3K6PFgdqkVRbaFHeD-UMTSc/edit#gid=970845822\"\n",
        "first_survey_url = url.replace('/edit#gid=', '/export?format=csv&gid=')\n",
        "df_first_survey = pd.read_csv(first_survey_url)\n",
        "df_first_survey.head()"
      ],
      "execution_count": 3,
      "outputs": [
        {
          "output_type": "execute_result",
          "data": {
            "text/html": [
              "\n",
              "  <div id=\"df-ab343c95-b7be-4ebb-81c0-63445d8e1e54\">\n",
              "    <div class=\"colab-df-container\">\n",
              "      <div>\n",
              "<style scoped>\n",
              "    .dataframe tbody tr th:only-of-type {\n",
              "        vertical-align: middle;\n",
              "    }\n",
              "\n",
              "    .dataframe tbody tr th {\n",
              "        vertical-align: top;\n",
              "    }\n",
              "\n",
              "    .dataframe thead th {\n",
              "        text-align: right;\n",
              "    }\n",
              "</style>\n",
              "<table border=\"1\" class=\"dataframe\">\n",
              "  <thead>\n",
              "    <tr style=\"text-align: right;\">\n",
              "      <th></th>\n",
              "      <th>What is your major?</th>\n",
              "      <th>Where are you living this quarter?</th>\n",
              "      <th>How many siblings do you have?</th>\n",
              "      <th>What is your favorite color?</th>\n",
              "      <th>What is a cool TV show, movie, or book that you liked in 2020?</th>\n",
              "      <th>Suppose you wanted to fill an average-sized school bus entirely with golf balls.  How many golf balls do you think you would need?</th>\n",
              "      <th>Do you consider yourself a sports fan?</th>\n",
              "      <th>Do you enjoy video games?</th>\n",
              "      <th>Do you consider yourself artistic?</th>\n",
              "    </tr>\n",
              "  </thead>\n",
              "  <tbody>\n",
              "    <tr>\n",
              "      <th>0</th>\n",
              "      <td>Other</td>\n",
              "      <td>Off Campus, but in SLO</td>\n",
              "      <td>2</td>\n",
              "      <td>Light Blue</td>\n",
              "      <td>Criminal Minds</td>\n",
              "      <td>500000.0</td>\n",
              "      <td>No</td>\n",
              "      <td>Yes</td>\n",
              "      <td>Yes</td>\n",
              "    </tr>\n",
              "    <tr>\n",
              "      <th>1</th>\n",
              "      <td>Statistics</td>\n",
              "      <td>Off Campus, outside of SLO</td>\n",
              "      <td>5</td>\n",
              "      <td>green</td>\n",
              "      <td>A Gentleman in Moscow</td>\n",
              "      <td>930000.0</td>\n",
              "      <td>No</td>\n",
              "      <td>No</td>\n",
              "      <td>No</td>\n",
              "    </tr>\n",
              "    <tr>\n",
              "      <th>2</th>\n",
              "      <td>Computer Science</td>\n",
              "      <td>Off Campus, but in SLO</td>\n",
              "      <td>2</td>\n",
              "      <td>blue</td>\n",
              "      <td>Crescent City by Sarah J Maas</td>\n",
              "      <td>10000000.0</td>\n",
              "      <td>Yes</td>\n",
              "      <td>No</td>\n",
              "      <td>Yes</td>\n",
              "    </tr>\n",
              "    <tr>\n",
              "      <th>3</th>\n",
              "      <td>Other</td>\n",
              "      <td>Off Campus, outside of SLO</td>\n",
              "      <td>2</td>\n",
              "      <td>Green</td>\n",
              "      <td>The Institute by Stephen King</td>\n",
              "      <td>400000.0</td>\n",
              "      <td>No</td>\n",
              "      <td>No</td>\n",
              "      <td>Yes</td>\n",
              "    </tr>\n",
              "    <tr>\n",
              "      <th>4</th>\n",
              "      <td>Computer Science</td>\n",
              "      <td>Off Campus, outside of SLO</td>\n",
              "      <td>1</td>\n",
              "      <td>Blue/Indigo</td>\n",
              "      <td>Peaky Blinders</td>\n",
              "      <td>100000.0</td>\n",
              "      <td>Yes</td>\n",
              "      <td>Yes</td>\n",
              "      <td>No</td>\n",
              "    </tr>\n",
              "  </tbody>\n",
              "</table>\n",
              "</div>\n",
              "      <button class=\"colab-df-convert\" onclick=\"convertToInteractive('df-ab343c95-b7be-4ebb-81c0-63445d8e1e54')\"\n",
              "              title=\"Convert this dataframe to an interactive table.\"\n",
              "              style=\"display:none;\">\n",
              "        \n",
              "  <svg xmlns=\"http://www.w3.org/2000/svg\" height=\"24px\"viewBox=\"0 0 24 24\"\n",
              "       width=\"24px\">\n",
              "    <path d=\"M0 0h24v24H0V0z\" fill=\"none\"/>\n",
              "    <path d=\"M18.56 5.44l.94 2.06.94-2.06 2.06-.94-2.06-.94-.94-2.06-.94 2.06-2.06.94zm-11 1L8.5 8.5l.94-2.06 2.06-.94-2.06-.94L8.5 2.5l-.94 2.06-2.06.94zm10 10l.94 2.06.94-2.06 2.06-.94-2.06-.94-.94-2.06-.94 2.06-2.06.94z\"/><path d=\"M17.41 7.96l-1.37-1.37c-.4-.4-.92-.59-1.43-.59-.52 0-1.04.2-1.43.59L10.3 9.45l-7.72 7.72c-.78.78-.78 2.05 0 2.83L4 21.41c.39.39.9.59 1.41.59.51 0 1.02-.2 1.41-.59l7.78-7.78 2.81-2.81c.8-.78.8-2.07 0-2.86zM5.41 20L4 18.59l7.72-7.72 1.47 1.35L5.41 20z\"/>\n",
              "  </svg>\n",
              "      </button>\n",
              "      \n",
              "  <style>\n",
              "    .colab-df-container {\n",
              "      display:flex;\n",
              "      flex-wrap:wrap;\n",
              "      gap: 12px;\n",
              "    }\n",
              "\n",
              "    .colab-df-convert {\n",
              "      background-color: #E8F0FE;\n",
              "      border: none;\n",
              "      border-radius: 50%;\n",
              "      cursor: pointer;\n",
              "      display: none;\n",
              "      fill: #1967D2;\n",
              "      height: 32px;\n",
              "      padding: 0 0 0 0;\n",
              "      width: 32px;\n",
              "    }\n",
              "\n",
              "    .colab-df-convert:hover {\n",
              "      background-color: #E2EBFA;\n",
              "      box-shadow: 0px 1px 2px rgba(60, 64, 67, 0.3), 0px 1px 3px 1px rgba(60, 64, 67, 0.15);\n",
              "      fill: #174EA6;\n",
              "    }\n",
              "\n",
              "    [theme=dark] .colab-df-convert {\n",
              "      background-color: #3B4455;\n",
              "      fill: #D2E3FC;\n",
              "    }\n",
              "\n",
              "    [theme=dark] .colab-df-convert:hover {\n",
              "      background-color: #434B5C;\n",
              "      box-shadow: 0px 1px 3px 1px rgba(0, 0, 0, 0.15);\n",
              "      filter: drop-shadow(0px 1px 2px rgba(0, 0, 0, 0.3));\n",
              "      fill: #FFFFFF;\n",
              "    }\n",
              "  </style>\n",
              "\n",
              "      <script>\n",
              "        const buttonEl =\n",
              "          document.querySelector('#df-ab343c95-b7be-4ebb-81c0-63445d8e1e54 button.colab-df-convert');\n",
              "        buttonEl.style.display =\n",
              "          google.colab.kernel.accessAllowed ? 'block' : 'none';\n",
              "\n",
              "        async function convertToInteractive(key) {\n",
              "          const element = document.querySelector('#df-ab343c95-b7be-4ebb-81c0-63445d8e1e54');\n",
              "          const dataTable =\n",
              "            await google.colab.kernel.invokeFunction('convertToInteractive',\n",
              "                                                     [key], {});\n",
              "          if (!dataTable) return;\n",
              "\n",
              "          const docLinkHtml = 'Like what you see? Visit the ' +\n",
              "            '<a target=\"_blank\" href=https://colab.research.google.com/notebooks/data_table.ipynb>data table notebook</a>'\n",
              "            + ' to learn more about interactive tables.';\n",
              "          element.innerHTML = '';\n",
              "          dataTable['output_type'] = 'display_data';\n",
              "          await google.colab.output.renderOutput(dataTable, element);\n",
              "          const docLink = document.createElement('div');\n",
              "          docLink.innerHTML = docLinkHtml;\n",
              "          element.appendChild(docLink);\n",
              "        }\n",
              "      </script>\n",
              "    </div>\n",
              "  </div>\n",
              "  "
            ],
            "text/plain": [
              "  What is your major?  ... Do you consider yourself artistic?\n",
              "0               Other  ...                                Yes\n",
              "1          Statistics  ...                                 No\n",
              "2    Computer Science  ...                                Yes\n",
              "3               Other  ...                                Yes\n",
              "4    Computer Science  ...                                 No\n",
              "\n",
              "[5 rows x 9 columns]"
            ]
          },
          "metadata": {},
          "execution_count": 3
        }
      ]
    },
    {
      "cell_type": "code",
      "source": [
        "def normal_colors(c):\n",
        "  if \"blue\" in c:\n",
        "    return \"blue\"\n",
        "  if \"green\" in c:\n",
        "    return \"green\"\n",
        "  if \"pink\" in c:\n",
        "    return \"pink\"\n",
        "  if c in [\"grey\", \"gray\"]:\n",
        "    return \"gray\"\n",
        "  else:\n",
        "    return c\n",
        "\n",
        "df_first_survey[\"color\"] = df_first_survey[\"What is your favorite color?\"].str.lower()\n",
        "color_lc = df_first_survey[\"color\"].map(normal_colors)\n",
        "color_counts = color_lc.value_counts()\n",
        "color_counts.plot.pie()\n"
      ],
      "metadata": {
        "colab": {
          "base_uri": "https://localhost:8080/",
          "height": 265
        },
        "id": "ZvvI4dg2twT5",
        "outputId": "2a6022c6-733e-43e8-e294-74ab61e6d588"
      },
      "execution_count": 35,
      "outputs": [
        {
          "output_type": "execute_result",
          "data": {
            "text/plain": [
              "<matplotlib.axes._subplots.AxesSubplot at 0x7f5a3cf86350>"
            ]
          },
          "metadata": {},
          "execution_count": 35
        },
        {
          "output_type": "display_data",
          "data": {
            "image/png": "[encoded data removed]",
            "text/plain": [
              "<Figure size 432x288 with 1 Axes>"
            ]
          },
          "metadata": {}
        }
      ]
    },
    {
      "cell_type": "markdown",
      "metadata": {
        "id": "fCYgs1_kc8kN"
      },
      "source": [
        "**Blue is the most popular color by far, with green, purple, and red also holding sizable proportions. There are also quite a few other colors that are less popular, but still distinct from the others.**\n",
        "\n",
        "\n"
      ]
    },
    {
      "cell_type": "markdown",
      "metadata": {
        "id": "EDUBQeggc8kK"
      },
      "source": [
        "## Question 2\n",
        "\n",
        "Is there a relationship between the number of siblings a student has, and whether or not they live in SLO?\n",
        "\n",
        "Make a visualization to address this question, and discuss the result."
      ]
    },
    {
      "cell_type": "code",
      "metadata": {
        "id": "TpDoV7rvc8kO",
        "colab": {
          "base_uri": "https://localhost:8080/",
          "height": 296
        },
        "outputId": "ba4acb43-9645-41a5-a02e-fa71e7a5ffc2"
      },
      "source": [
        "df_first_survey[\"In SLO\"] = df_first_survey[\"Where are you living this quarter?\"].map({\n",
        "    \"Off Campus, but in SLO\": \"SLO\",\n",
        "    \"On-Campus housing\": \"SLO\",\n",
        "    \"Off Campus, outside of SLO\": \"not SLO\"\n",
        "})\n",
        "joint_siblings_slo = pd.crosstab(df_first_survey[\"How many siblings do you have?\"], df_first_survey[\"In SLO\"], \n",
        "                                    normalize=True)\n",
        "joint_siblings_slo.plot()"
      ],
      "execution_count": 47,
      "outputs": [
        {
          "output_type": "execute_result",
          "data": {
            "text/plain": [
              "<matplotlib.axes._subplots.AxesSubplot at 0x7fd403753f50>"
            ]
          },
          "metadata": {},
          "execution_count": 47
        },
        {
          "output_type": "display_data",
          "data": {
            "image/png": "[encoded data removed]",
            "text/plain": [
              "<Figure size 432x288 with 1 Axes>"
            ]
          },
          "metadata": {
            "needs_background": "light"
          }
        }
      ]
    },
    {
      "cell_type": "markdown",
      "metadata": {
        "id": "xS8tUCb8c8kQ"
      },
      "source": [
        "**It actually seems that there are a higher proportion of individuals with 3-5 siblings that live outside of SLO, and a higher proportion of individuals with just 1 or 2 siblings that live in SLO.**\n",
        "\n"
      ]
    },
    {
      "cell_type": "markdown",
      "metadata": {
        "id": "OWml6cxtc8kR"
      },
      "source": [
        "## Question 3\n",
        "\n",
        "You were asked to guess how many golf balls fit into a standard-sized school bus.  This is actually a famous Google interview question!  The best answer I could find online is [here](https://www.quora.com/How-many-golf-balls-can-fit-into-a-school-bus).\n",
        "\n",
        "How did the different subgroups in the class do on this question?  That is, can you find an interesting relationship between the golf ball numbers guess and any of the other variables in this dataset?\n",
        "\n",
        "(_Hint:_ There are many reasonable approaches to this problem. You will get full credit for any reasonable approach, as long as you carefully justify it.)"
      ]
    },
    {
      "cell_type": "markdown",
      "source": [
        "Is there a relationship between the golf ball predictions made by people of different majors?"
      ],
      "metadata": {
        "id": "ospcKEICC7CT"
      }
    },
    {
      "cell_type": "code",
      "metadata": {
        "id": "JTnwnsjZc8kS",
        "colab": {
          "base_uri": "https://localhost:8080/",
          "height": 373
        },
        "outputId": "5103c2a0-f353-4d99-8f89-261ee9886655"
      },
      "source": [
        "df_first_survey[\"golf balls estimate\"] = df_first_survey[\"Suppose you wanted to fill an average-sized school bus entirely with golf balls.  How many golf balls do you think you would need?\"]\n",
        "boxplot = df_first_survey.boxplot(column = [\"golf balls estimate\"],  by = 'What is your major?')\n",
        "boxplot\n",
        "\n"
      ],
      "execution_count": 37,
      "outputs": [
        {
          "output_type": "stream",
          "name": "stderr",
          "text": [
            "/usr/local/lib/python3.7/dist-packages/numpy/core/_asarray.py:83: VisibleDeprecationWarning: Creating an ndarray from ragged nested sequences (which is a list-or-tuple of lists-or-tuples-or ndarrays with different lengths or shapes) is deprecated. If you meant to do this, you must specify 'dtype=object' when creating the ndarray\n",
            "  return array(a, dtype, copy=False, order=order)\n"
          ]
        },
        {
          "output_type": "execute_result",
          "data": {
            "text/plain": [
              "<matplotlib.axes._subplots.AxesSubplot at 0x7f5a3c50b110>"
            ]
          },
          "metadata": {},
          "execution_count": 37
        },
        {
          "output_type": "display_data",
          "data": {
            "image/png": "[encoded data removed]",
            "text/plain": [
              "<Figure size 432x288 with 1 Axes>"
            ]
          },
          "metadata": {
            "needs_background": "light"
          }
        }
      ]
    },
    {
      "cell_type": "markdown",
      "metadata": {
        "id": "FMb6JbDcc8kU"
      },
      "source": [
        "**There does seem to be some evidence that computer science majors tended to choose higher estimates for golf balls than the others, however each group of majors tended to have similar amounts of variability within them.**"
      ]
    },
    {
      "cell_type": "markdown",
      "metadata": {
        "id": "rlclwdA0pGb0"
      },
      "source": [
        "## Question 4\n",
        "\n",
        "Write and answer your own question using this data set."
      ]
    },
    {
      "cell_type": "markdown",
      "source": [
        "Do sports fans consider themselves less artistic than non-sports fans?"
      ],
      "metadata": {
        "id": "bM96Yl0IKP8r"
      }
    },
    {
      "cell_type": "code",
      "metadata": {
        "id": "-DGR6Q-QpMls",
        "colab": {
          "base_uri": "https://localhost:8080/",
          "height": 372
        },
        "outputId": "aa748c24-92fd-4d89-bbdf-5f3b10661679"
      },
      "source": [
        "\n",
        "joint_sports_art = pd.crosstab(df_first_survey[\"Do you consider yourself a sports fan?\"], df_first_survey[\"Do you consider yourself artistic?\"], \n",
        "                                    normalize=True)\n",
        "joint_sports_art, joint_sports_art.plot.bar(stacked = True)"
      ],
      "execution_count": 99,
      "outputs": [
        {
          "output_type": "execute_result",
          "data": {
            "text/plain": [
              "(Do you consider yourself artistic?            No       Yes\n",
              " Do you consider yourself a sports fan?                    \n",
              " No                                      0.293103  0.241379\n",
              " Yes                                     0.310345  0.155172,\n",
              " <matplotlib.axes._subplots.AxesSubplot at 0x7fd4010d9610>)"
            ]
          },
          "metadata": {},
          "execution_count": 99
        },
        {
          "output_type": "display_data",
          "data": {
            "image/png": "[encoded data removed]",
            "text/plain": [
              "<Figure size 432x288 with 1 Axes>"
            ]
          },
          "metadata": {
            "needs_background": "light"
          }
        }
      ]
    },
    {
      "cell_type": "markdown",
      "source": [
        "**It appears that of the individuals who considered themselves sports fans, there is a smaller group of people who also consider themselves to be artistic compared to the group of non-sports fans, where artistic people make up nearly half the group.**"
      ],
      "metadata": {
        "id": "01sVQ4UJK6we"
      }
    }
  ]
}